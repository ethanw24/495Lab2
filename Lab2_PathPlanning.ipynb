{
 "cells": [
  {
   "cell_type": "markdown",
   "metadata": {},
   "source": [
    "## ECE495 Lab2: Krichmar Path Planning using Nengo"
   ]
  },
  {
   "cell_type": "markdown",
   "metadata": {},
   "source": [
    "This Lab uses Nengo to find the optimal path of a square or rectangular map using Krichmar's spike-wave propagation algorithm. The objectives of this lab are to:\n",
    "- Implement Krichmar's spike-wave propagation algorithm using Nengo neurons\n",
    "- Ensure the spike wave works for any rectangular or square map\n",
    "- Utilize an \"off-chip\" AER to compute the fastest route to get from any starting point (location) to any ending point (location)\n",
    "\n",
    "_Note: This is your assignment description and a proposed outline by which you can complete your assignment_\n",
    "- The assignment is worth 60 points\n",
    "- You may hardcode your connections for each of the three required maps _for a max score of 50/60_\n",
    "- _**Be sure to print your final path for each map or save it somewhere in your repository so that I can check your work!**_"
   ]
  },
  {
   "cell_type": "markdown",
   "metadata": {},
   "source": [
    "#### Set up\n",
    "\n",
    "**Ensure you are using your [495 Virtual Environment](https://github.com/kaitlin-fair/495venv_setup) before you begin!**  \n",
    "    \n",
    "Import Nengo and other supporting libraries into your program to get started:"
   ]
  },
  {
   "cell_type": "code",
   "execution_count": 144,
   "metadata": {},
   "outputs": [],
   "source": [
    "import matplotlib.pyplot as plt\n",
    "import numpy as np\n",
    "\n",
    "import nengo\n",
    "from nengo.processes import Piecewise\n",
    "from nengo.processes import WhiteSignal\n",
    "from nengo.solvers import LstsqL2"
   ]
  },
  {
   "cell_type": "markdown",
   "metadata": {
    "id": "SRNvPHASH60r"
   },
   "source": [
    "### Input Maps\n",
    "\n",
    "Check that your spike-wave propagation and AER work for these three maps:\n",
    " \n",
    "(a) The following $3 \\times 3$ array with start location 0 (top left) and end location 8 (bottom right). \n",
    "$$\\begin{bmatrix} 1 & 2 & 1 \\\\\n",
    "                  1 & 3 & 5 \\\\\n",
    "                  7 & 1 & 1\n",
    "                      \\end{bmatrix}$$\n",
    "\n",
    "(b) The following $3 \\times 4$ array with start location 0 and end location 11.\n",
    "$$\\begin{bmatrix} 1 & 2 & 1 & 6 \\\\\n",
    "                  1 & 3 & 5 & 3 \\\\\n",
    "                  7 & 1 & 4 & 1\n",
    "                      \\end{bmatrix}$$\n",
    "\n",
    "(c) The following $5 \\times 5$ array with start location 10 and end location 4.\n",
    "$$\\begin{bmatrix} 1 & 3 & 7 & 2 & 1\\\\\n",
    "                  3 & 1 & 5 & 3 & 1\\\\\n",
    "                  3 & 2 & 6 & 1 & 2\\\\\n",
    "                  3 & 1 & 5 & 6 & 1\\\\\n",
    "                  2 & 2 & 1 & 1 & 2\n",
    "                      \\end{bmatrix}$$\n"
   ]
  },
  {
   "cell_type": "code",
   "execution_count": 145,
   "metadata": {},
   "outputs": [],
   "source": [
    "# input1 = np.array([[1,2,1], [1,3,5], [7,1,1]])\n",
    "# starti = 0\n",
    "# startj = 0\n",
    "# endi = 2\n",
    "# endj = 2\n",
    "# start1D = 0\n",
    "# end1D = 8\n",
    "\n",
    "# input1 = np.array([[1,2,1,6], [1,3,5,3], [7,1,4,1]])\n",
    "# starti = 0\n",
    "# startj = 0\n",
    "# endi = 2\n",
    "# endj = 3\n",
    "# start1D = 0\n",
    "# end1D = 11\n",
    "\n",
    "input1 = np.array(\n",
    "    [\n",
    "        [1, 3, 7, 2, 1],\n",
    "        [3, 1, 5, 3, 1],\n",
    "        [3, 2, 6, 1, 2],\n",
    "        [3, 1, 5, 6, 1],\n",
    "        [2, 2, 1, 1, 2],\n",
    "    ]\n",
    ")\n",
    "starti = 2\n",
    "startj = 0\n",
    "endi = 0\n",
    "endj = 4\n",
    "start1D = 10\n",
    "end1D = 4"
   ]
  },
  {
   "cell_type": "markdown",
   "metadata": {
    "id": "GVEl2ZdARMhN"
   },
   "source": [
    "### Set up and run your Nengo model to implement the spike-wave propagation\n",
    "_Be sure to generalize or take the 10 points deduction!_\n",
    "\n",
    "Hints: \n",
    "- Use a piecewise function to kick off the spike wave, then turn off your input and let the wave do the rest. Be sure this input connects to your _start location._\n",
    "- Use a Nengo Ensemble for each map location (you can use an Ensemble array, a multidimensional ensemble, or a list of ensembles). Every map location has anywhere from 3 (corner locations) to 8 (inside locations) neighbors to which it can send a spike. Be careful with your connections! I personally said each of them had 8 possible locations and then deleted any locations that were \"off-map\", but do what makes the most sense to you. \n",
    "- Create a delay node to emulate an axonal delay from Krichmar's algorithm. Each map location should have a delay equal to the weight (difficulty of traversal) of the location.\n",
    "- Implementing inhibition is _difficult_! Recall from Krichmar's algorithm that once a map location fires, it should not fire again. If you can't get the inhibition to work, instead try to add another function to your delay node that turns off a map location once it's sent the spike wave forward"
   ]
  },
  {
   "cell_type": "code",
   "execution_count": 146,
   "metadata": {},
   "outputs": [],
   "source": [
    "model = nengo.Network(label=\"Lab2 - Wipf\")\n",
    "\n",
    "# Get size of each matrix\n",
    "\n",
    "with model:\n",
    "\n",
    "    len1 = len(input1.ravel())\n",
    "    x1, y1 = np.shape(input1)\n",
    "    neuron = []\n",
    "    neurcol = []\n",
    "    for i in range(0, x1):\n",
    "        for j in range(0, y1):\n",
    "            neurcol.append(nengo.Ensemble(n_neurons=100, dimensions=1))\n",
    "        neuron.append(neurcol)\n",
    "        neurcol = []\n",
    "\n",
    "\n",
    "# model = nengo.Network(label=\"AER\")"
   ]
  },
  {
   "cell_type": "markdown",
   "metadata": {},
   "source": [
    "### Create AER off-neuron\n",
    "_Pay attention to how Krichmar says he uses the AER to determine the path_  \n",
    "\n",
    "Hints:\n",
    "- The AER contains a location and a time of first spike.\n",
    "- Start at the end location and work backward!\n",
    "- I found that by looking at the first spike times of all possible neighboring map locations and choosing the smallest time allowed me to work from end node to start node for my optimal path."
   ]
  },
  {
   "cell_type": "code",
   "execution_count": 147,
   "metadata": {},
   "outputs": [],
   "source": [
    "# Delays\n",
    "delayprobearray = []\n",
    "inputprobearray = []\n",
    "\n",
    "\n",
    "class Delay:\n",
    "    def __init__(self, dimensions, timesteps=50):\n",
    "        self.history = np.zeros((timesteps, dimensions))\n",
    "        self.startspike = False\n",
    "        self.stopspike = False\n",
    "\n",
    "    def step(self, t, x):\n",
    "        self.history = np.roll(self.history, -1)\n",
    "        self.history[-1] = x\n",
    "\n",
    "        if self.history[0] > 0.8:\n",
    "            self.startspike = True\n",
    "        if self.history[0] < 0.25 and self.startspike == True:\n",
    "            self.stopspike = True\n",
    "\n",
    "        if self.stopspike == True:\n",
    "            return 0\n",
    "        else:\n",
    "            return self.history[0]\n",
    "\n",
    "\n",
    "dt = 0.001  # default nengo timestep\n",
    "\n",
    "with model:\n",
    "    len2 = len(input1.ravel())\n",
    "    x1, y1 = np.shape(input1)\n",
    "    delaynode = []\n",
    "    delcol = []\n",
    "    for i in range(0, x1):\n",
    "        for j in range(0, y1):\n",
    "            delay = Delay(1, timesteps=int(input1[i][j] / dt))\n",
    "            delcol.append(nengo.Node(delay.step, size_in=1, size_out=1))\n",
    "        delaynode.append(delcol)\n",
    "        delcol = []\n",
    "\n",
    "with model:\n",
    "\n",
    "    inp_node = nengo.Node(Piecewise({0: 1, 0.25: 0}))  # quick spike into start node\n",
    "    neuron_probe = nengo.Probe(inp_node, synapse=0.01)\n",
    "    nengo.Connection(inp_node, delaynode[starti][startj])\n",
    "\n",
    "    for i in range(0, x1):\n",
    "        for j in range(0, y1):\n",
    "            nengo.Connection(delaynode[i][j], neuron[i][j])\n",
    "            # top left\n",
    "            if i == 0 and j == 0:\n",
    "                nengo.Connection(neuron[i][j], delaynode[i][j + 1])\n",
    "                nengo.Connection(neuron[i][j], delaynode[i + 1][j])\n",
    "                nengo.Connection(neuron[i][j], delaynode[i + 1][j + 1])\n",
    "            # top right\n",
    "            elif i == 0 and j == (len(neuron[i]) - 1):\n",
    "                nengo.Connection(neuron[i][j], delaynode[i][j - 1])\n",
    "                nengo.Connection(neuron[i][j], delaynode[i + 1][j - 1])\n",
    "                nengo.Connection(neuron[i][j], delaynode[i + 1][j])\n",
    "            # bottom left\n",
    "            elif i == (len(neuron) - 1) and j == 0:\n",
    "                nengo.Connection(neuron[i][j], delaynode[i - 1][j])\n",
    "                nengo.Connection(neuron[i][j], delaynode[i - 1][j + 1])\n",
    "                nengo.Connection(neuron[i][j], delaynode[i][j + 1])\n",
    "            # bottom right\n",
    "            elif i == (len(neuron) - 1) and j == (len(neuron[i]) - 1):\n",
    "                nengo.Connection(neuron[i][j], delaynode[i - 1][j])\n",
    "                nengo.Connection(neuron[i][j], delaynode[i - 1][j - 1])\n",
    "                nengo.Connection(neuron[i][j], delaynode[i][j - 1])\n",
    "            # top row\n",
    "            elif i == 0:\n",
    "                nengo.Connection(neuron[i][j], delaynode[i][j - 1])\n",
    "                nengo.Connection(neuron[i][j], delaynode[i + 1][j - 1])\n",
    "                nengo.Connection(neuron[i][j], delaynode[i + 1][j])\n",
    "                nengo.Connection(neuron[i][j], delaynode[i][j + 1])\n",
    "                nengo.Connection(neuron[i][j], delaynode[i + 1][j + 1])\n",
    "            # bottom row\n",
    "            elif i == (len(neuron) - 1):\n",
    "                nengo.Connection(neuron[i][j], delaynode[i - 1][j - 1])\n",
    "                nengo.Connection(neuron[i][j], delaynode[i][j - 1])\n",
    "                nengo.Connection(neuron[i][j], delaynode[i - 1][j])\n",
    "                nengo.Connection(neuron[i][j], delaynode[i - 1][j + 1])\n",
    "                nengo.Connection(neuron[i][j], delaynode[i][j + 1])\n",
    "            # left col\n",
    "            elif j == 0:\n",
    "                nengo.Connection(neuron[i][j], delaynode[i - 1][j])\n",
    "                nengo.Connection(neuron[i][j], delaynode[i - 1][j + 1])\n",
    "                nengo.Connection(neuron[i][j], delaynode[i][j + 1])\n",
    "                nengo.Connection(neuron[i][j], delaynode[i + 1][j + 1])\n",
    "                nengo.Connection(neuron[i][j], delaynode[i + 1][j])\n",
    "\n",
    "            # right col\n",
    "            elif j == (len(neuron[i]) - 1):\n",
    "                nengo.Connection(neuron[i][j], delaynode[i - 1][j - 1])\n",
    "                nengo.Connection(neuron[i][j], delaynode[i - 1][j])\n",
    "                nengo.Connection(neuron[i][j], delaynode[i][j - 1])\n",
    "                nengo.Connection(neuron[i][j], delaynode[i + 1][j - 1])\n",
    "                nengo.Connection(neuron[i][j], delaynode[i + 1][j])\n",
    "\n",
    "            # middle\n",
    "            else:\n",
    "                nengo.Connection(neuron[i][j], delaynode[i - 1][j - 1])\n",
    "                nengo.Connection(neuron[i][j], delaynode[i - 1][j])\n",
    "                nengo.Connection(neuron[i][j], delaynode[i - 1][j + 1])\n",
    "                nengo.Connection(neuron[i][j], delaynode[i][j - 1])\n",
    "                nengo.Connection(neuron[i][j], delaynode[i][j + 1])\n",
    "                nengo.Connection(neuron[i][j], delaynode[i + 1][j - 1])\n",
    "                nengo.Connection(neuron[i][j], delaynode[i + 1][j])\n",
    "                nengo.Connection(neuron[i][j], delaynode[i + 1][j + 1])"
   ]
  },
  {
   "cell_type": "code",
   "execution_count": 148,
   "metadata": {},
   "outputs": [
    {
     "data": {
      "application/vdom.v1+json": {
       "attributes": {},
       "tagName": "div"
      },
      "text/html": [
       "\n",
       "                <script>\n",
       "                    if (Jupyter.version.split(\".\")[0] < 5) {\n",
       "                        var pb = document.getElementById(\"5881814a-2d3e-4bf0-9fe7-5877c6dfd72e\");\n",
       "                        var text = document.createTextNode(\n",
       "                            \"HMTL progress bar requires Jupyter Notebook >= \" +\n",
       "                            \"5.0 or Jupyter Lab. Alternatively, you can use \" +\n",
       "                            \"TerminalProgressBar().\");\n",
       "                        pb.parentNode.insertBefore(text, pb);\n",
       "                    }\n",
       "                </script>\n",
       "                <div id=\"5881814a-2d3e-4bf0-9fe7-5877c6dfd72e\" style=\"\n",
       "                    width: 100%;\n",
       "                    border: 1px solid #cfcfcf;\n",
       "                    border-radius: 4px;\n",
       "                    text-align: center;\n",
       "                    position: relative;\">\n",
       "                  <div class=\"pb-text\" style=\"\n",
       "                      position: absolute;\n",
       "                      width: 100%;\">\n",
       "                    0%\n",
       "                  </div>\n",
       "                  <div class=\"pb-fill\" style=\"\n",
       "                      background-color: #bdd2e6;\n",
       "                      width: 0%;\">\n",
       "                    <style type=\"text/css\" scoped=\"scoped\">\n",
       "                        @keyframes pb-fill-anim {\n",
       "                            0% { background-position: 0 0; }\n",
       "                            100% { background-position: 100px 0; }\n",
       "                        }\n",
       "                    </style>\n",
       "                    &nbsp;\n",
       "                  </div>\n",
       "                </div>"
      ],
      "text/plain": [
       "HtmlProgressBar cannot be displayed. Please use the TerminalProgressBar. It can be enabled with `nengo.rc['progress']['progress_bar'] = 'nengo.utils.progress.TerminalProgressBar'`."
      ]
     },
     "metadata": {},
     "output_type": "display_data"
    },
    {
     "data": {
      "application/vdom.v1+json": {
       "attributes": {
        "id": "d663a1f4-9da2-4866-abca-501c472f13f9",
        "style": {
         "border": "1px solid #cfcfcf",
         "borderRadius": "4px",
         "boxSizing": "border-box",
         "position": "relative",
         "textAlign": "center",
         "width": "100%"
        }
       },
       "children": [
        {
         "attributes": {
          "class": "pb-text",
          "style": {
           "position": "absolute",
           "width": "100%"
          }
         },
         "children": [
          "Build finished in 0:00:03."
         ],
         "tagName": "div"
        },
        {
         "attributes": {
          "class": "pb-fill",
          "style": {
           "animation": "none",
           "backgroundColor": "#bdd2e6",
           "backgroundImage": "none",
           "backgroundSize": "100px 100%",
           "width": "100%"
          }
         },
         "children": [
          {
           "attributes": {
            "scoped": "scoped",
            "type": "text/css"
           },
           "children": [
            "\n                        @keyframes pb-fill-anim {\n                            0% { background-position: 0 0; }\n                            100% { background-position: 100px 0; }\n                        }}"
           ],
           "tagName": "style"
          },
          " "
         ],
         "tagName": "div"
        }
       ],
       "tagName": "div"
      },
      "text/html": [
       "<script>\n",
       "              (function () {\n",
       "                  var root = document.getElementById('5881814a-2d3e-4bf0-9fe7-5877c6dfd72e');\n",
       "                  var text = root.getElementsByClassName('pb-text')[0];\n",
       "                  var fill = root.getElementsByClassName('pb-fill')[0];\n",
       "\n",
       "                  text.innerHTML = 'Build finished in 0:00:03.';\n",
       "                  \n",
       "            fill.style.width = '100%';\n",
       "            fill.style.animation = 'pb-fill-anim 2s linear infinite';\n",
       "            fill.style.backgroundSize = '100px 100%';\n",
       "            fill.style.backgroundImage = 'repeating-linear-gradient(' +\n",
       "                '90deg, #bdd2e6, #edf2f8 40%, #bdd2e6 80%, #bdd2e6)';\n",
       "        \n",
       "                  \n",
       "                fill.style.animation = 'none';\n",
       "                fill.style.backgroundImage = 'none';\n",
       "            \n",
       "              })();\n",
       "        </script>"
      ]
     },
     "metadata": {},
     "output_type": "display_data"
    },
    {
     "data": {
      "application/vdom.v1+json": {
       "attributes": {},
       "tagName": "div"
      },
      "text/html": [
       "\n",
       "                <script>\n",
       "                    if (Jupyter.version.split(\".\")[0] < 5) {\n",
       "                        var pb = document.getElementById(\"993fb1b5-25d1-480f-9fb9-71c2294bd0f9\");\n",
       "                        var text = document.createTextNode(\n",
       "                            \"HMTL progress bar requires Jupyter Notebook >= \" +\n",
       "                            \"5.0 or Jupyter Lab. Alternatively, you can use \" +\n",
       "                            \"TerminalProgressBar().\");\n",
       "                        pb.parentNode.insertBefore(text, pb);\n",
       "                    }\n",
       "                </script>\n",
       "                <div id=\"993fb1b5-25d1-480f-9fb9-71c2294bd0f9\" style=\"\n",
       "                    width: 100%;\n",
       "                    border: 1px solid #cfcfcf;\n",
       "                    border-radius: 4px;\n",
       "                    text-align: center;\n",
       "                    position: relative;\">\n",
       "                  <div class=\"pb-text\" style=\"\n",
       "                      position: absolute;\n",
       "                      width: 100%;\">\n",
       "                    0%\n",
       "                  </div>\n",
       "                  <div class=\"pb-fill\" style=\"\n",
       "                      background-color: #bdd2e6;\n",
       "                      width: 0%;\">\n",
       "                    <style type=\"text/css\" scoped=\"scoped\">\n",
       "                        @keyframes pb-fill-anim {\n",
       "                            0% { background-position: 0 0; }\n",
       "                            100% { background-position: 100px 0; }\n",
       "                        }\n",
       "                    </style>\n",
       "                    &nbsp;\n",
       "                  </div>\n",
       "                </div>"
      ],
      "text/plain": [
       "HtmlProgressBar cannot be displayed. Please use the TerminalProgressBar. It can be enabled with `nengo.rc['progress']['progress_bar'] = 'nengo.utils.progress.TerminalProgressBar'`."
      ]
     },
     "metadata": {},
     "output_type": "display_data"
    },
    {
     "data": {
      "application/vdom.v1+json": {
       "attributes": {
        "id": "1e41b650-b457-46a3-aff4-202dff652148",
        "style": {
         "border": "1px solid #cfcfcf",
         "borderRadius": "4px",
         "boxSizing": "border-box",
         "position": "relative",
         "textAlign": "center",
         "width": "100%"
        }
       },
       "children": [
        {
         "attributes": {
          "class": "pb-text",
          "style": {
           "position": "absolute",
           "width": "100%"
          }
         },
         "children": [
          "Simulation finished in 0:00:46."
         ],
         "tagName": "div"
        },
        {
         "attributes": {
          "class": "pb-fill",
          "style": {
           "animation": "none",
           "backgroundColor": "#bdd2e6",
           "backgroundImage": "none",
           "transition": "width 0.1s linear",
           "width": "100%"
          }
         },
         "children": [
          {
           "attributes": {
            "scoped": "scoped",
            "type": "text/css"
           },
           "children": [
            "\n                        @keyframes pb-fill-anim {\n                            0% { background-position: 0 0; }\n                            100% { background-position: 100px 0; }\n                        }}"
           ],
           "tagName": "style"
          },
          " "
         ],
         "tagName": "div"
        }
       ],
       "tagName": "div"
      },
      "text/html": [
       "<script>\n",
       "              (function () {\n",
       "                  var root = document.getElementById('993fb1b5-25d1-480f-9fb9-71c2294bd0f9');\n",
       "                  var text = root.getElementsByClassName('pb-text')[0];\n",
       "                  var fill = root.getElementsByClassName('pb-fill')[0];\n",
       "\n",
       "                  text.innerHTML = 'Simulation finished in 0:00:46.';\n",
       "                  \n",
       "            if (100.0 > 0.) {\n",
       "                fill.style.transition = 'width 0.1s linear';\n",
       "            } else {\n",
       "                fill.style.transition = 'none';\n",
       "            }\n",
       "\n",
       "            fill.style.width = '100.0%';\n",
       "            fill.style.animation = 'none';\n",
       "            fill.style.backgroundImage = 'none'\n",
       "        \n",
       "                  \n",
       "                fill.style.animation = 'none';\n",
       "                fill.style.backgroundImage = 'none';\n",
       "            \n",
       "              })();\n",
       "        </script>"
      ]
     },
     "metadata": {},
     "output_type": "display_data"
    }
   ],
   "source": [
    "# Send the delayed output through an ensemble\n",
    "probearray = []\n",
    "delayprobearray = []\n",
    "with model:\n",
    "    for i in range(0, x1):\n",
    "        for j in range(0, y1):\n",
    "\n",
    "            probearray.append(nengo.Probe(neuron[i][j], synapse=0.01))\n",
    "            delayprobearray.append(nengo.Probe(delaynode[i][j], synapse=0.01))\n",
    "\n",
    "# Run for 2 seconds\n",
    "sim_time = 15\n",
    "with nengo.Simulator(model) as sim:\n",
    "    sim.run(sim_time)"
   ]
  },
  {
   "cell_type": "code",
   "execution_count": 149,
   "metadata": {},
   "outputs": [
    {
     "data": {
      "image/png": "[encoded data removed]",
      "text/plain": [
       "<Figure size 640x480 with 1 Axes>"
      ]
     },
     "metadata": {},
     "output_type": "display_data"
    },
    {
     "data": {
      "text/plain": [
       "[<matplotlib.lines.Line2D at 0x1713a5c1810>]"
      ]
     },
     "execution_count": 149,
     "metadata": {},
     "output_type": "execute_result"
    },
    {
     "data": {
      "image/png": "[encoded data removed]",
      "text/plain": [
       "<Figure size 640x480 with 2 Axes>"
      ]
     },
     "metadata": {},
     "output_type": "display_data"
    },
    {
     "data": {
      "image/png": "[encoded data removed]",
      "text/plain": [
       "<Figure size 640x480 with 1 Axes>"
      ]
     },
     "metadata": {},
     "output_type": "display_data"
    }
   ],
   "source": [
    "# Plot the results\n",
    "plt.figure()\n",
    "plt.plot(sim.trange(), sim.data[probearray[10]], label=10)\n",
    "plt.plot(sim.trange(), sim.data[probearray[16]], label=16)\n",
    "plt.plot(sim.trange(), sim.data[probearray[22]], label=22)\n",
    "plt.plot(sim.trange(), sim.data[probearray[23]], label=23)\n",
    "plt.plot(sim.trange(), sim.data[probearray[19]], label=19)\n",
    "plt.plot(sim.trange(), sim.data[probearray[13]], label=13)\n",
    "plt.plot(sim.trange(), sim.data[probearray[9]], label=9)\n",
    "plt.plot(sim.trange(), sim.data[probearray[4]], label=4)\n",
    "plt.title(\"Optimal path\")\n",
    "plt.legend()\n",
    "plt.show()\n",
    "\n",
    "\n",
    "plt.subplot(2, 1, 1)\n",
    "plt.plot(sim.trange(), sim.data[neuron_probe])\n",
    "plt.title(\"Input node\")\n",
    "\n",
    "# Plot the results\n",
    "plt.subplot(2, 1, 1)\n",
    "plt.plot(sim.trange(), sim.data[probearray[13]])\n",
    "plt.title(\"Input array\")\n",
    "\n",
    "plt.subplot(2, 1, 2)\n",
    "plt.plot(sim.trange(), sim.data[delayprobearray[13]])\n",
    "plt.title(\"Delayed array\")\n",
    "\n",
    "plt.tight_layout()\n",
    "\n",
    "plt.figure()\n",
    "plt.plot(sim.trange(), sim.data[probearray[9]])"
   ]
  },
  {
   "cell_type": "markdown",
   "metadata": {
    "id": "IU76Mt_cfa7q"
   },
   "source": [
    "### Print your optimal path\n",
    "_Be sure to show your results_  \n",
    "\n",
    "Some options:\n",
    "- You can print your map locations as x- and y- coordinates (examples: start_loc = [0,0] or [2,0]) or flattened locations (examples: start_loc = 0 or 10)\n",
    "- You can create a picture of a map (like in Krichmar's paper) where you draw out your final path"
   ]
  },
  {
   "cell_type": "code",
   "execution_count": 168,
   "metadata": {},
   "outputs": [
    {
     "name": "stdout",
     "output_type": "stream",
     "text": [
      "Location  0 is:  5055\n",
      "Location  1 is:  7055\n",
      "Location  2 is:  11051\n",
      "Location  3 is:  7197\n",
      "Location  4 is:  15000.0\n",
      "Location  5 is:  6040\n",
      "Location  6 is:  4042\n",
      "Location  7 is:  9046\n",
      "Location  8 is:  15000.0\n",
      "Location  9 is:  6073\n",
      "Location  10 is:  3028\n",
      "Location  11 is:  5041\n",
      "Location  12 is:  10034\n",
      "Location  13 is:  6075\n",
      "Location  14 is:  7071\n",
      "Location  15 is:  6040\n",
      "Location  16 is:  4039\n",
      "Location  17 is:  9045\n",
      "Location  18 is:  15000.0\n",
      "Location  19 is:  6115\n",
      "Location  20 is:  6050\n",
      "Location  21 is:  6050\n",
      "Location  22 is:  5049\n",
      "Location  23 is:  6056\n",
      "Location  24 is:  8059\n"
     ]
    }
   ],
   "source": [
    "# Set up array of time steps\n",
    "step = 0\n",
    "finalpath = []\n",
    "spikelocs = []\n",
    "firstspike = []\n",
    "len_probe_array = len(probearray)\n",
    "\n",
    "for i in range(0, len_probe_array):\n",
    "    aer = sim.data[probearray[i]][:, 0] > 0.8\n",
    "    spike = np.where(aer == True)\n",
    "    if np.asarray(spike).size == 0:\n",
    "        spikelocs.append(sim_time / dt)\n",
    "    else:\n",
    "        spikelocs.append(np.min(spike))\n",
    "\n",
    "for i in range(0, len_probe_array):\n",
    "    print(\"Location \", i, \"is: \", spikelocs[i])\n",
    "\n",
    "two_d_spikelocs = np.reshape(spikelocs, (x1, y1))\n",
    "\n",
    "finalpath.append([endi, endj])\n",
    "curr_loc = finalpath[step]"
   ]
  },
  {
   "cell_type": "code",
   "execution_count": 167,
   "metadata": {},
   "outputs": [
    {
     "name": "stderr",
     "output_type": "stream",
     "text": [
      "C:\\Users\\cadet_admin\\AppData\\Local\\Temp\\ipykernel_11660\\3634522445.py:37: DeprecationWarning: Conversion of an array with ndim > 0 to a scalar is deprecated, and will error in future. Ensure you extract a single element from your array before performing this operation. (Deprecated NumPy 1.25.)\n",
      "  finalpath.append([int(y[0]),int(y[1])])\n",
      "C:\\Users\\cadet_admin\\AppData\\Local\\Temp\\ipykernel_11660\\3634522445.py:150: DeprecationWarning: Conversion of an array with ndim > 0 to a scalar is deprecated, and will error in future. Ensure you extract a single element from your array before performing this operation. (Deprecated NumPy 1.25.)\n",
      "  curr_loc = [int(y[0]), int(y[1])]\n",
      "C:\\Users\\cadet_admin\\AppData\\Local\\Temp\\ipykernel_11660\\3634522445.py:129: DeprecationWarning: Conversion of an array with ndim > 0 to a scalar is deprecated, and will error in future. Ensure you extract a single element from your array before performing this operation. (Deprecated NumPy 1.25.)\n",
      "  finalpath.append([int(y[0]),int(y[1])])\n",
      "C:\\Users\\cadet_admin\\AppData\\Local\\Temp\\ipykernel_11660\\3634522445.py:148: DeprecationWarning: Conversion of an array with ndim > 0 to a scalar is deprecated, and will error in future. Ensure you extract a single element from your array before performing this operation. (Deprecated NumPy 1.25.)\n",
      "  finalpath.append([int(y[0]),int(y[1])])\n"
     ]
    },
    {
     "ename": "KeyboardInterrupt",
     "evalue": "",
     "output_type": "error",
     "traceback": [
      "\u001b[1;31m---------------------------------------------------------------------------\u001b[0m",
      "\u001b[1;31mKeyboardInterrupt\u001b[0m                         Traceback (most recent call last)",
      "Cell \u001b[1;32mIn[167], line 128\u001b[0m\n\u001b[0;32m    126\u001b[0m         prev_val \u001b[38;5;241m=\u001b[39m x[k]\n\u001b[0;32m    127\u001b[0m min_v \u001b[38;5;241m=\u001b[39m \u001b[38;5;28mmin\u001b[39m(z)\n\u001b[1;32m--> 128\u001b[0m y \u001b[38;5;241m=\u001b[39m \u001b[43mnp\u001b[49m\u001b[38;5;241;43m.\u001b[39;49m\u001b[43mwhere\u001b[49m\u001b[43m(\u001b[49m\u001b[43mtwo_d_spikelocs\u001b[49m\u001b[43m \u001b[49m\u001b[38;5;241;43m==\u001b[39;49m\u001b[43m \u001b[49m\u001b[43mmin_v\u001b[49m\u001b[43m)\u001b[49m\n\u001b[0;32m    129\u001b[0m finalpath\u001b[38;5;241m.\u001b[39mappend([\u001b[38;5;28mint\u001b[39m(y[\u001b[38;5;241m0\u001b[39m]),\u001b[38;5;28mint\u001b[39m(y[\u001b[38;5;241m1\u001b[39m])])\n\u001b[0;32m    130\u001b[0m step \u001b[38;5;241m+\u001b[39m\u001b[38;5;241m=\u001b[39m \u001b[38;5;241m1\u001b[39m\n",
      "\u001b[1;31mKeyboardInterrupt\u001b[0m: "
     ]
    }
   ],
   "source": [
    "prev_val = spikelocs[end1D]\n",
    "# Determine final path\n",
    "while finalpath[step] != [starti, startj]:\n",
    "    i = curr_loc[0]\n",
    "    j = curr_loc[1]\n",
    "\n",
    "    x = []\n",
    "    z = []\n",
    "    min_v = 0\n",
    "\n",
    "    # top left\n",
    "    if i == 0 and j == 0:\n",
    "        x.append(two_d_spikelocs[i + 1][j + 1])\n",
    "        x.append(two_d_spikelocs[i][j + 1])\n",
    "        x.append(two_d_spikelocs[i + 1][j])\n",
    "        for k in range(0, len(x)):\n",
    "            if x[k] != prev_val:\n",
    "                z.append(x[k])\n",
    "            else:\n",
    "                prev_val = x[k]\n",
    "        min_v = min(z)\n",
    "        y = np.where(two_d_spikelocs == min_v)\n",
    "        finalpath.append([int(y[0]), int(y[1])])\n",
    "        step += 1\n",
    "    # top right\n",
    "    elif i == 0 and j == (y1 - 1):\n",
    "        x.append(two_d_spikelocs[i][j - 1])\n",
    "        x.append(two_d_spikelocs[i + 1][j - 1])\n",
    "        x.append(two_d_spikelocs[i + 1][j])\n",
    "        for k in range(0, len(x)):\n",
    "            if x[k] != prev_val:\n",
    "                z.append(x[k])\n",
    "            else:\n",
    "                prev_val = x[k]\n",
    "        min_v = min(z)\n",
    "        y = np.where(two_d_spikelocs == min_v)\n",
    "        finalpath.append([int(y[0]), int(y[1])])\n",
    "        step += 1\n",
    "    # bottom left\n",
    "    elif i == (x1 - 1) and j == 0:\n",
    "        x.append(two_d_spikelocs[i - 1][j])\n",
    "        x.append(two_d_spikelocs[i - 1][j + 1])\n",
    "        x.append(two_d_spikelocs[i][j + 1])\n",
    "        for k in range(0, len(x)):\n",
    "            if x[k] != prev_val:\n",
    "                z.append(x[k])\n",
    "            else:\n",
    "                prev_val = x[k]\n",
    "        min_v = min(z)\n",
    "        y = np.where(two_d_spikelocs == min_v)\n",
    "        finalpath.append([int(y[0]), int(y[1])])\n",
    "        step += 1\n",
    "    # bottom right\n",
    "    elif i == (x1 - 1) and j == (y1 - 1):\n",
    "        x.append(two_d_spikelocs[i - 1][j - 1])\n",
    "        x.append(two_d_spikelocs[i - 1][j])\n",
    "        x.append(two_d_spikelocs[i][j - 1])\n",
    "        for k in range(0, len(x)):\n",
    "            if x[k] != prev_val:\n",
    "                z.append(x[k])\n",
    "            else:\n",
    "                prev_val = x[k]\n",
    "        min_v = min(z)\n",
    "        y = np.where(two_d_spikelocs == min_v)\n",
    "        finalpath.append([int(y[0]), int(y[1])])\n",
    "        step += 1\n",
    "    # top row\n",
    "    elif i == 0:\n",
    "        x.append(two_d_spikelocs[i][j - 1])\n",
    "        x.append(two_d_spikelocs[i + 1][j - 1])\n",
    "        x.append(two_d_spikelocs[i + 1][j])\n",
    "        x.append(two_d_spikelocs[i + 1][j + 1])\n",
    "        x.append(two_d_spikelocs[i][j + 1])\n",
    "        for k in range(0, len(x)):\n",
    "            if x[k] != prev_val:\n",
    "                z.append(x[k])\n",
    "            else:\n",
    "                prev_val = x[k]\n",
    "        min_v = min(z)\n",
    "        y = np.where(two_d_spikelocs == min_v)\n",
    "        finalpath.append([int(y[0]), int(y[1])])\n",
    "        step += 1\n",
    "    # bottom row\n",
    "    elif i == (x1 - 1):\n",
    "        x.append(two_d_spikelocs[i - 1][j - 1])\n",
    "        x.append(two_d_spikelocs[i][j - 1])\n",
    "        x.append(two_d_spikelocs[i - 1][j])\n",
    "        x.append(two_d_spikelocs[i - 1][j + 1])\n",
    "        x.append(two_d_spikelocs[i][j + 1])\n",
    "        for k in range(0, len(x)):\n",
    "            if x[k] != prev_val:\n",
    "                z.append(x[k])\n",
    "            else:\n",
    "                prev_val = x[k]\n",
    "        min_v = min(z)\n",
    "        y = np.where(two_d_spikelocs == min_v)\n",
    "        finalpath.append([int(y[0]), int(y[1])])\n",
    "        step += 1\n",
    "    # left col\n",
    "    elif j == 0:\n",
    "        x.append(two_d_spikelocs[i - 1][j])\n",
    "        x.append(two_d_spikelocs[i - 1][j + 1])\n",
    "        x.append(two_d_spikelocs[i][j + 1])\n",
    "        x.append(two_d_spikelocs[i + 1][j + 1])\n",
    "        x.append(two_d_spikelocs[i + 1][j])\n",
    "        for k in range(0, len(x)):\n",
    "            if x[k] != prev_val:\n",
    "                z.append(x[k])\n",
    "            else:\n",
    "                prev_val = x[k]\n",
    "        min_v = min(z)\n",
    "        y = np.where(two_d_spikelocs == min_v)\n",
    "        finalpath.append([int(y[0]), int(y[1])])\n",
    "        step += 1\n",
    "    # right col\n",
    "    elif j == (y1 - 1):\n",
    "        x.append(two_d_spikelocs[i - 1][j - 1])\n",
    "        x.append(two_d_spikelocs[i - 1][j])\n",
    "        x.append(two_d_spikelocs[i][j - 1])\n",
    "        x.append(two_d_spikelocs[i + 1][j - 1])\n",
    "        x.append(two_d_spikelocs[i + 1][j])\n",
    "        for k in range(0, len(x)):\n",
    "            if x[k] != prev_val:\n",
    "                z.append(x[k])\n",
    "            else:\n",
    "                prev_val = x[k]\n",
    "        min_v = min(z)\n",
    "        y = np.where(two_d_spikelocs == min_v)\n",
    "        finalpath.append([int(y[0]), int(y[1])])\n",
    "        step += 1\n",
    "    # else\n",
    "    else:\n",
    "        x.append(two_d_spikelocs[i - 1][j - 1])\n",
    "        x.append(two_d_spikelocs[i - 1][j])\n",
    "        x.append(two_d_spikelocs[i - 1][j + 1])\n",
    "        x.append(two_d_spikelocs[i][j - 1])\n",
    "        x.append(two_d_spikelocs[i][j + 1])\n",
    "        x.append(two_d_spikelocs[i + 1][j - 1])\n",
    "        x.append(two_d_spikelocs[i + 1][j])\n",
    "        x.append(two_d_spikelocs[i + 1][j + 1])\n",
    "        for k in range(0, len(x)):\n",
    "            if x[k] != prev_val:\n",
    "                z.append(x[k])\n",
    "            else:\n",
    "                prev_val = x[k]\n",
    "        min_v = min(z)\n",
    "        y = np.where(two_d_spikelocs == min_v)\n",
    "        finalpath.append([int(y[0]), int(y[1])])\n",
    "        step += 1\n",
    "    curr_loc = [int(y[0]), int(y[1])]\n",
    "\n",
    "\n",
    "def reverse_outer_arrays(array):\n",
    "    reversed_array = []\n",
    "    for i in reversed(range(len(array))):\n",
    "        reversed_array.append(array[i])\n",
    "    return reversed_array\n",
    "\n",
    "\n",
    "print(\"Final path:\", reverse_outer_arrays(finalpath))"
   ]
  }
 ],
 "metadata": {
  "colab": {
   "provenance": []
  },
  "kernelspec": {
   "display_name": "Python 3",
   "name": "python3"
  },
  "language_info": {
   "codemirror_mode": {
    "name": "ipython",
    "version": 3
   },
   "file_extension": ".py",
   "mimetype": "text/x-python",
   "name": "python",
   "nbconvert_exporter": "python",
   "pygments_lexer": "ipython3",
   "version": "3.10.11"
  }
 },
 "nbformat": 4,
 "nbformat_minor": 0
}
